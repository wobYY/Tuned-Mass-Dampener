{
 "cells": [
  {
   "cell_type": "code",
   "execution_count": 76,
   "metadata": {},
   "outputs": [],
   "source": [
    "%reset"
   ]
  },
  {
   "cell_type": "code",
   "execution_count": 77,
   "metadata": {},
   "outputs": [],
   "source": [
    "# Importing the libraries\n",
    "import numpy as np\n",
    "from scipy.integrate import odeint\n",
    "from matplotlib import pyplot as plt\n",
    "from matplotlib.animation import FuncAnimation\n",
    "from matplotlib.patches import Rectangle"
   ]
  },
  {
   "attachments": {},
   "cell_type": "markdown",
   "metadata": {},
   "source": [
    "![Zadatak](assignment.png \"Zadatak\")\n",
    "\n",
    "#### **Pomaci središnjih katova:**\n",
    "${{{d^2}{x_i}} \\over d{t^2}}= {k({x_{i-1}} - 2{x_i} + {x_{i+1}}) + {F_f}(\\dot{x}_i)}$\n",
    "\n",
    "#### **Prizemlje zgrade vezano na pobudu tla (amplituda i frekvencija potresa):**\n",
    "${{{d^2}{x_1}} \\over d{t^2}}= {k(- 2{x_1} + {x_2}) + {F_f}(\\dot{x}_1) + Asin(\\omega t)}$\n",
    "- $Asin(\\omega t)$ -> Podrhtavanje tla\n",
    "\n",
    "#### **Pomak zadnjeg kata:**\n",
    "${{{d^2}{x_N}} \\over d{t^2}}= {k({x_{N-1}} - 2{x_N}) + {F_f}(\\dot{x}_N)}$\n",
    "\n",
    "#### **${F_f}(\\dot{x})$ trenje između katova je definirano:**\n",
    "$ {F_f}(\\dot{x}) =\n",
    "    \\begin{cases}\n",
    "    -F_0    & \\quad \\dot{x} > 0\\\\\n",
    "    +F_0    & \\quad \\dot{x} < 0\\\\\n",
    "    kx     & \\quad \\dot{x} = 0, kx \\leq F_0\\\\\n",
    "    {F_0 x} \\over |x|     & \\quad \\dot{x} = 0, kx \\geq F_0\n",
    "    \\end{cases}\n",
    "$\n",
    "\n",
    "Approximate Energy of Earthquake per Magnitude:\n",
    "\n",
    "![Energy per Magnitude](EnergyPerMagnitude.png \"Energy per Magnitude\")\n",
    "\n",
    "----\n",
    "\n",
    "#### Literature:\n",
    "1. [Learning Differential Equations by Exploring Earthquake Induced Structural Vibrations: A Case Study*](https://www.ijee.ie/articles/Vol15-6/ijee1107.pdf)"
   ]
  },
  {
   "cell_type": "code",
   "execution_count": 78,
   "metadata": {
    "tags": []
   },
   "outputs": [],
   "source": [
    "# Parameters\n",
    "k = 0.001  # Overall stiffness of a building\n",
    "F0 = 0.00001  # Friction force\n",
    "\n",
    "# Bezveze\n",
    "A = 2 # m; Amplitude of a floor\n",
    "omega = 0.01 # rad/s; Frequency of a floor\n",
    "\n",
    "# Friction between floors definition\n",
    "def F_f(v, x): # v = velocity = derivation of x\n",
    "    if v > 0:\n",
    "        return -F0\n",
    "    elif v < 0:\n",
    "        return F0\n",
    "    elif v == 0 and k*x <= F0:\n",
    "        return k*x\n",
    "    elif v == 0 and k*x > F0:\n",
    "        return ((F0)*x)/np.abs(x)\n",
    "\n",
    "# # Frequency of the earthquake\n",
    "# def potres(t):\n",
    "#     # print(t)\n",
    "#     if t <= 5:\n",
    "#         return A*np.sin(omega*t)\n",
    "#     else:\n",
    "#         return 0"
   ]
  },
  {
   "cell_type": "code",
   "execution_count": 79,
   "metadata": {},
   "outputs": [],
   "source": [
    "testing_F0 = np.arange(5, 100*10**4, 2.5)"
   ]
  },
  {
   "cell_type": "code",
   "execution_count": 80,
   "metadata": {},
   "outputs": [
    {
     "name": "stdout",
     "output_type": "stream",
     "text": [
      "Vel_x:  4\n",
      "Min_x:  -0.0 \n",
      "Max_x:  3.706\n",
      "Passed! | F0 = 1e-05\n",
      "\n",
      "\n"
     ]
    },
    {
     "data": {
      "image/png": "[encoded data removed]",
      "text/plain": [
       "<Figure size 640x480 with 1 Axes>"
      ]
     },
     "metadata": {},
     "output_type": "display_data"
    }
   ],
   "source": [
    "try:\n",
    "    # Function that calculates the right sides of the differential equations\n",
    "    def D(X, t):\n",
    "        # print(f\"F_f: {F_f(X[4], X[0])}\")\n",
    "        # X0, X1, X2, X3, X4, V5, V6, V7, V8, V9 = X\n",
    "        return np.array([X[5],\n",
    "                        X[6],\n",
    "                        X[7],\n",
    "                        X[8],\n",
    "                        X[9],\n",
    "                        k*(-2*X[0] + X[1]) + F_f(X[5], X[0]) + A*np.sin(omega*t),                   # Ground floor\n",
    "                        k*(X[0] - 2*X[1] + X[2]) + F_f(X[6], X[1]),                                 # First floor      \n",
    "                        k*(X[1] - 2*X[2] + X[3]) + F_f(X[7], X[2]),                                 # Second floor       \n",
    "                        k*(X[2] - 2*X[3] + X[4]) + F_f(X[8], X[3]),                                 # Third floor\n",
    "                        k*(X[3] - 2*X[4]) + F_f(X[9], X[4])])\n",
    "\n",
    "    # Initial state\n",
    "    X0 = np.array([0, 0, 0, 0, 0, 0, 0, 0, 0, 0])\n",
    "\n",
    "    # Time interval\n",
    "    t_stop = 30 # Mag. 5-6 earthquake lasts up to 30 seconds\n",
    "    nt = t_stop*30 # Number of time steps\n",
    "\n",
    "    T = np.linspace(0, t_stop, nt)\n",
    "\n",
    "    # Integration\n",
    "    X = odeint(D, X0, T)\n",
    "    \n",
    "    # Graphs - x\n",
    "    vel_x = int(len(X[0, :])/2) - 1\n",
    "    print('Vel_x: ', vel_x)\n",
    "    min_x = np.around(np.min(X[:, 1:vel_x]), decimals=3)\n",
    "    max_x = np.around(np.max(X[:, 1:vel_x]), decimals=3)\n",
    "    print('Min_x: ', min_x, '\\nMax_x: ', max_x)\n",
    "    plt.xlim(min_x*1.2, max_x*1.2)\n",
    "    plt.ylim(0, t_stop+5)\n",
    "    plt.plot(X[:, 0], T, label='x0', color='red') # Ground floor\n",
    "    plt.plot(X[:, 1], T, label='x1', color='green')\n",
    "    plt.plot(X[:, 2], T, label='x2', color='blue')\n",
    "    plt.plot(X[:, 3], T, label='x3', color='orange')\n",
    "    plt.plot(X[:, 4], T, label='x4', color='brown')\n",
    "    plt.xlabel('x (pomak)')\n",
    "    plt.ylabel('t (vrijeme)')\n",
    "    plt.legend()\n",
    "    \n",
    "    # Printing values\n",
    "    print(f'Passed! | F0 = {F0}')\n",
    "    # Save value to a file\n",
    "    # with open('values_passed.txt', 'a') as f:\n",
    "    #     f.write(f'{F0}\\n')\n",
    "except ValueError:\n",
    "    # Printing values\n",
    "    print(f'Failed! | F0 = {F0}')\n",
    "    # Save value to a file\n",
    "    # with open('values_failed.txt', 'a') as f:\n",
    "    #     f.write(f'{F0}\\n')\n",
    "print('\\n')"
   ]
  },
  {
   "cell_type": "code",
   "execution_count": 81,
   "metadata": {},
   "outputs": [
    {
     "data": {
      "text/plain": [
       "<matplotlib.legend.Legend at 0x1f00cf0e8c0>"
      ]
     },
     "execution_count": 81,
     "metadata": {},
     "output_type": "execute_result"
    },
    {
     "data": {
      "image/png": "[encoded data removed]",
      "text/plain": [
       "<Figure size 640x480 with 1 Axes>"
      ]
     },
     "metadata": {},
     "output_type": "display_data"
    }
   ],
   "source": [
    "# Graphs - v\n",
    "vel_x = int(len(X[0, :])/2) - 1\n",
    "print('Vel_x: ', vel_x)\n",
    "min_x = np.around(np.min(X[:, 1:vel_x]), decimals=3)\n",
    "max_x = np.around(np.max(X[:, 1:vel_x]), decimals=3)\n",
    "print('Min_x: ', min_x, '\\nMax_x: ', max_x)\n",
    "plt.xlim(min_x*1.2, max_x*1.2)\n",
    "plt.ylim(0, t_stop+5)\n",
    "# plt.plot(X[:, 5], T, label='v1', color='red') # Ground speed\n",
    "plt.plot(X[:, 6], T, label='v2', color='green')\n",
    "plt.plot(X[:, 7], T, label='v3', color='blue')\n",
    "plt.plot(X[:, 8], T, label='v4', color='orange')\n",
    "plt.plot(X[:, 9], T, label='v4', color='brown')\n",
    "plt.xlabel('v (brzina)')\n",
    "plt.ylabel('t (vrijeme)')\n",
    "plt.legend()"
   ]
  },
  {
   "cell_type": "code",
   "execution_count": 82,
   "metadata": {},
   "outputs": [],
   "source": [
    "# # Animation\n",
    "\n",
    "# fig, ax = plt.subplots()\n",
    "# def frames(i):\n",
    "#     plt.clf()\n",
    "#     plt.xlim(0, 10)\n",
    "#     plt.ylim(-1, 32)\n",
    "#     ax = plt.gca()\n",
    "#     ax.add_patch(Rectangle((0, -1), 10, 1, color='green'))\n",
    "#     ax.add_patch(Rectangle((2.5 + X[i,0], 0), 5, 6, color='red', label='Floor 1'))\n",
    "#     ax.add_patch(Rectangle((2.5 + X[i,1], 6), 5, 6, color='green', label='Floor 2'))\n",
    "#     ax.add_patch(Rectangle((2.5 + X[i,2], 12), 5, 6, color='blue', label='Floor 3'))\n",
    "#     ax.add_patch(Rectangle((2.5 + X[i,3], 18), 5, 6, color='orange', label='Floor 4'))\n",
    "\n",
    "# animation = FuncAnimation(fig, frames, frames=nt) # Create an animation with a total of nt frames\n",
    "# animation.save('Animacija.avi', fps=(nt)/t_stop) # Save the animation as a video file (avi)"
   ]
  },
  {
   "cell_type": "code",
   "execution_count": 83,
   "metadata": {},
   "outputs": [
    {
     "data": {
      "text/plain": [
       "(900, 10)"
      ]
     },
     "execution_count": 83,
     "metadata": {},
     "output_type": "execute_result"
    }
   ],
   "source": [
    "np.shape(X)"
   ]
  }
 ],
 "metadata": {
  "kernelspec": {
   "display_name": "mut",
   "language": "python",
   "name": "python3"
  },
  "language_info": {
   "codemirror_mode": {
    "name": "ipython",
    "version": 3
   },
   "file_extension": ".py",
   "mimetype": "text/x-python",
   "name": "python",
   "nbconvert_exporter": "python",
   "pygments_lexer": "ipython3",
   "version": "3.10.8"
  },
  "orig_nbformat": 4,
  "vscode": {
   "interpreter": {
    "hash": "fd4e6e0ddca813ad6e30d34038867f593d3e5e4503030f66a48ec520a3317520"
   }
  }
 },
 "nbformat": 4,
 "nbformat_minor": 2
}
