{
 "cells": [
  {
   "cell_type": "code",
   "execution_count": 1,
   "metadata": {},
   "outputs": [],
   "source": [
    "import numpy as np\n",
    "from scipy.integrate import odeint\n",
    "from matplotlib import pyplot as plt"
   ]
  },
  {
   "cell_type": "code",
   "execution_count": null,
   "metadata": {},
   "outputs": [],
   "source": [
    "# Parameters of building and earthquake\n",
    "k =   # Overall stiffness of a building\n",
    "F0 =   # Friction force\n",
    "A =   # Amplitude of a floor\n",
    "omega =   # Frequency of a floor"
   ]
  },
  {
   "cell_type": "code",
   "execution_count": null,
   "metadata": {},
   "outputs": [],
   "source": [
    "# Friction between floors definition\n",
    "def F_f(v, x):  # v = velocity = derivation of x\n",
    "    if v > 0:\n",
    "        return -F0\n",
    "    elif v < 0:\n",
    "        return F0\n",
    "    elif v == 0 and k * x <= F0:\n",
    "        return k * x\n",
    "    elif v == 0 and k * x > F0:\n",
    "        return ((F0) * x) / np.abs(x)"
   ]
  },
  {
   "cell_type": "code",
   "execution_count": null,
   "metadata": {},
   "outputs": [],
   "source": [
    "# T*sin(theta) + (W_d / g) * (d^2 u/dt^2 + d^2 u_d/dt^2) = 0\n",
    "# T - tension\n",
    "# theta - angle\n",
    "\n",
    "# For small theta:\n",
    "# u_d = L*sin(theta) approx = L*theta\n",
    "# T approx = W_d\n",
    "\n",
    "# m_d*(d^2 u_d/dt^2) + (W_d / L)*u_d = -m_d * (d^2 u/dt^2)\n",
    "\n",
    "# Shear spring stiffness\n",
    "# k_eq = W_d / L\n",
    "\n",
    "# Natural frequency of the pendulum is related to the stiffness of the spring\n",
    "# (omega_d)^2 = k_eq / m_d = g / L\n",
    "\n",
    "# Natural period of the pendulum\n",
    "# T_d = 2*pi*sqrt(L/g)\n",
    "\n",
    "# \n",
    "# \"The simple pendulum tuned mass damper concept has a serious limitation. \n",
    "# Since the period depends on L, the required length for large Td may be greater than \n",
    "# the typical story height. For instance, the length for Td = 5 s is 6.2 meters \n",
    "# whereas the story height is between 4 and 5 meters.\""
   ]
  },
  {
   "cell_type": "code",
   "execution_count": null,
   "metadata": {},
   "outputs": [],
   "source": [
    "# Available variables for TMD:\n",
    "L = 10 # m; Length of the pendulum\n",
    "g = 9.81 # m/s^2; Gravitational acceleration\n",
    "m_d = 150 * 1000 # kg; Mass of the pendulum\n",
    "\n",
    "# Necessary:\n",
    "# u_d => X_tmd\n",
    "# u_d_dot => V_tmd"
   ]
  },
  {
   "cell_type": "code",
   "execution_count": null,
   "metadata": {},
   "outputs": [],
   "source": [
    "# Function that calculates the right sides of the differential equations\n",
    "# fmt: off\n",
    "def D(X, t):\n",
    "    # X1, X2, X3, X4, V1, V2, V3, V4 = X\n",
    "    return np.array([X[4],\n",
    "                    X[5],\n",
    "                    X[6],\n",
    "                    X[7],\n",
    "                    k*(-2*X[0] + X[1]) + F_f(X[4], X[0]) + A*np.sin(omega*t),       # Ground floor\n",
    "                    k*(X[0] - 2*X[1] + X[2]) + F_f(X[5], X[1]),                     # First floor\n",
    "                    k*(X[1] - 2*X[2] + X[3]) + F_f(X[6], X[2]),                     # Second floor\n",
    "                    k*(X[2] - 2*X[2]) + F_f(X[7], X[3])])                           # Third floor\n",
    "# fmt: on"
   ]
  }
 ],
 "metadata": {
  "kernelspec": {
   "display_name": "mut",
   "language": "python",
   "name": "python3"
  },
  "language_info": {
   "codemirror_mode": {
    "name": "ipython",
    "version": 3
   },
   "file_extension": ".py",
   "mimetype": "text/x-python",
   "name": "python",
   "nbconvert_exporter": "python",
   "pygments_lexer": "ipython3",
   "version": "3.10.8"
  },
  "orig_nbformat": 4
 },
 "nbformat": 4,
 "nbformat_minor": 2
}
