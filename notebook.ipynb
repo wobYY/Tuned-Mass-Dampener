{
 "cells": [
  {
   "cell_type": "code",
   "execution_count": 1,
   "metadata": {},
   "outputs": [],
   "source": [
    "import numpy as np\n",
    "from scipy.integrate import odeint\n",
    "from matplotlib import pyplot as plt"
   ]
  },
  {
   "cell_type": "code",
   "execution_count": null,
   "metadata": {},
   "outputs": [],
   "source": [
    "# T*sin(theta) + (W_d / g) * (d^2 u/dt^2 + d^2 u_d/dt^2) = 0\n",
    "# T - tension\n",
    "# theta - angle\n",
    "\n",
    "# For small theta:\n",
    "# u_d = L*sin(theta) approx = L*theta\n",
    "# T approx = W_d\n",
    "\n",
    "# m_d*(d^2 u_d/dt^2) + (W_d / L)*u_d = -m_d * (d^2 u/dt^2)\n",
    "\n",
    "# Shear spring stiffness\n",
    "# k_eq = W_d / L\n",
    "\n",
    "# Natural frequency of the pendulum is related to the stiffness of the spring\n",
    "# (omega_d)^2 = k_eq / m_d = g / L\n",
    "\n",
    "# Natural period of the pendulum\n",
    "# T_d = 2*pi*sqrt(L/g)\n",
    "\n",
    "# \n",
    "# \"The simple pendulum tuned mass damper concept has a serious limitation. \n",
    "# Since the period depends on L, the required length for large Td may be greater than \n",
    "# the typical story height. For instance, the length for Td = 5 s is 6.2 meters \n",
    "# whereas the story height is between 4 and 5 meters.\""
   ]
  },
  {
   "cell_type": "code",
   "execution_count": null,
   "metadata": {},
   "outputs": [],
   "source": [
    "# Available variables:\n",
    "L = 8 # m; Length of the pendulum\n",
    "g = 9.81 # m/s^2; Gravitational acceleration\n",
    "m_d = 150 * 1000 # kg; Mass of the pendulum\n",
    "\n"
   ]
  }
 ],
 "metadata": {
  "kernelspec": {
   "display_name": "mut",
   "language": "python",
   "name": "python3"
  },
  "language_info": {
   "codemirror_mode": {
    "name": "ipython",
    "version": 3
   },
   "file_extension": ".py",
   "mimetype": "text/x-python",
   "name": "python",
   "nbconvert_exporter": "python",
   "pygments_lexer": "ipython3",
   "version": "3.10.8"
  },
  "orig_nbformat": 4
 },
 "nbformat": 4,
 "nbformat_minor": 2
}
